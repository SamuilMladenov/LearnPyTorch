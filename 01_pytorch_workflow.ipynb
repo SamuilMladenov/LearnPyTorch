{
  "nbformat": 4,
  "nbformat_minor": 0,
  "metadata": {
    "colab": {
      "provenance": [],
      "authorship_tag": "ABX9TyNiCTTkilTFFpCjv4p7wjns",
      "include_colab_link": true
    },
    "kernelspec": {
      "name": "python3",
      "display_name": "Python 3"
    },
    "language_info": {
      "name": "python"
    }
  },
  "cells": [
    {
      "cell_type": "markdown",
      "metadata": {
        "id": "view-in-github",
        "colab_type": "text"
      },
      "source": [
        "<a href=\"https://colab.research.google.com/github/SamuilMladenov/LearnPyTorch/blob/main/01_pytorch_workflow.ipynb\" target=\"_parent\"><img src=\"https://colab.research.google.com/assets/colab-badge.svg\" alt=\"Open In Colab\"/></a>"
      ]
    },
    {
      "cell_type": "markdown",
      "source": [
        "# PyTorch Workflow\n",
        "\n",
        "End-to-end workflow"
      ],
      "metadata": {
        "id": "FmgNFDXW0z2v"
      }
    },
    {
      "cell_type": "markdown",
      "source": [
        "##Steps To Cover\n",
        "\n",
        "1. Prepare and Load the Data\n",
        "2. Build the Model\n",
        "3. Fit the Model to the Data\n",
        "4. Make Predictions and Evaluate Model\n",
        "5. Saveing and Loading the Model\n",
        "6. Putting it all together"
      ],
      "metadata": {
        "id": "3mux6bGf2bw5"
      }
    },
    {
      "cell_type": "code",
      "source": [
        "import torch\n",
        "from torch import nn #nn contains all of Pytorch's buuilding blocks for neural networks\n",
        "import pandas as pd\n",
        "import matplotlib.pyplot as plt\n",
        "import numpy as np"
      ],
      "metadata": {
        "id": "JSxXw9tz3lJe"
      },
      "execution_count": 1,
      "outputs": []
    },
    {
      "cell_type": "markdown",
      "source": [
        "## 1. Data (prepaaring and loading)\n",
        "\n",
        "Data can be anything in machine learning.\n",
        "\n",
        "1. Excel Spreadsheet\n",
        "2. IMages of any kind\n",
        "3. Videos\n",
        "4. Audio\n",
        "5. Even\n",
        "6. Text\n",
        "\n",
        "Amchine learning is a game of two parts:\n",
        "1. Get data into a numerical representation\n",
        "2. Build a model to learn patterns in that numerical representation\n",
        "\n",
        "To showcase this. let's create some *known* data using the linear regression formula.\n",
        "\n",
        "We'll use a linear regression formula to make a straight line with *known* **parameters**"
      ],
      "metadata": {
        "id": "vh6I7nCb5KhW"
      }
    },
    {
      "cell_type": "code",
      "source": [
        "# Create known parameters\n",
        "weight = 0.7\n",
        "bias = 0.3\n",
        "\n",
        "#Create\n",
        "start = 0\n",
        "end = 1\n",
        "step = 0.02\n",
        "X = torch.arange(start, end, step).unsqueeze(dim=1)\n",
        "y = weight* X + bias\n",
        "\n",
        "X[:10], y[:10]"
      ],
      "metadata": {
        "colab": {
          "base_uri": "https://localhost:8080/"
        },
        "id": "Lx9WihL254J4",
        "outputId": "d3ea7463-42b6-46e8-d049-edf0ff42b24d"
      },
      "execution_count": 2,
      "outputs": [
        {
          "output_type": "execute_result",
          "data": {
            "text/plain": [
              "(tensor([[0.0000],\n",
              "         [0.0200],\n",
              "         [0.0400],\n",
              "         [0.0600],\n",
              "         [0.0800],\n",
              "         [0.1000],\n",
              "         [0.1200],\n",
              "         [0.1400],\n",
              "         [0.1600],\n",
              "         [0.1800]]),\n",
              " tensor([[0.3000],\n",
              "         [0.3140],\n",
              "         [0.3280],\n",
              "         [0.3420],\n",
              "         [0.3560],\n",
              "         [0.3700],\n",
              "         [0.3840],\n",
              "         [0.3980],\n",
              "         [0.4120],\n",
              "         [0.4260]]))"
            ]
          },
          "metadata": {},
          "execution_count": 2
        }
      ]
    },
    {
      "cell_type": "code",
      "source": [
        "len(X), len(y)"
      ],
      "metadata": {
        "id": "EDJ-7Wph9nCI",
        "colab": {
          "base_uri": "https://localhost:8080/"
        },
        "outputId": "ba02a917-1b8e-4955-cedf-6dc4f0c51221"
      },
      "execution_count": 3,
      "outputs": [
        {
          "output_type": "execute_result",
          "data": {
            "text/plain": [
              "(50, 50)"
            ]
          },
          "metadata": {},
          "execution_count": 3
        }
      ]
    },
    {
      "cell_type": "markdown",
      "source": [
        "### Splitting data into training adn test sets (one of the most important concepts in machine learing in general)\n",
        "\n",
        "Let's create a training and test set with our data"
      ],
      "metadata": {
        "id": "QznlO0JV51AB"
      }
    },
    {
      "cell_type": "code",
      "source": [
        "# Create a train/test split\n",
        "\n",
        "train_split = int(0.8 * len(X))\n",
        "X_train, y_train = X[:train_split], y[:train_split]\n",
        "X_test, y_test = X[train_split:], y[train_split:]\n",
        "\n",
        "len(X_train), len(y_train), len(X_test), len(y_test)"
      ],
      "metadata": {
        "colab": {
          "base_uri": "https://localhost:8080/"
        },
        "id": "xcKridml7QuQ",
        "outputId": "7023626c-141e-46c4-e4ea-c6909047762b"
      },
      "execution_count": 4,
      "outputs": [
        {
          "output_type": "execute_result",
          "data": {
            "text/plain": [
              "(40, 40, 10, 10)"
            ]
          },
          "metadata": {},
          "execution_count": 4
        }
      ]
    },
    {
      "cell_type": "markdown",
      "source": [
        "How might we better visualize our data?"
      ],
      "metadata": {
        "id": "nYweauPk8j-j"
      }
    },
    {
      "cell_type": "code",
      "source": [
        "X_train, y_train"
      ],
      "metadata": {
        "colab": {
          "base_uri": "https://localhost:8080/"
        },
        "id": "QPaJ5FIY7eZt",
        "outputId": "70b02128-ac13-40da-d10d-b7beb25d5569"
      },
      "execution_count": 5,
      "outputs": [
        {
          "output_type": "execute_result",
          "data": {
            "text/plain": [
              "(tensor([[0.0000],\n",
              "         [0.0200],\n",
              "         [0.0400],\n",
              "         [0.0600],\n",
              "         [0.0800],\n",
              "         [0.1000],\n",
              "         [0.1200],\n",
              "         [0.1400],\n",
              "         [0.1600],\n",
              "         [0.1800],\n",
              "         [0.2000],\n",
              "         [0.2200],\n",
              "         [0.2400],\n",
              "         [0.2600],\n",
              "         [0.2800],\n",
              "         [0.3000],\n",
              "         [0.3200],\n",
              "         [0.3400],\n",
              "         [0.3600],\n",
              "         [0.3800],\n",
              "         [0.4000],\n",
              "         [0.4200],\n",
              "         [0.4400],\n",
              "         [0.4600],\n",
              "         [0.4800],\n",
              "         [0.5000],\n",
              "         [0.5200],\n",
              "         [0.5400],\n",
              "         [0.5600],\n",
              "         [0.5800],\n",
              "         [0.6000],\n",
              "         [0.6200],\n",
              "         [0.6400],\n",
              "         [0.6600],\n",
              "         [0.6800],\n",
              "         [0.7000],\n",
              "         [0.7200],\n",
              "         [0.7400],\n",
              "         [0.7600],\n",
              "         [0.7800]]),\n",
              " tensor([[0.3000],\n",
              "         [0.3140],\n",
              "         [0.3280],\n",
              "         [0.3420],\n",
              "         [0.3560],\n",
              "         [0.3700],\n",
              "         [0.3840],\n",
              "         [0.3980],\n",
              "         [0.4120],\n",
              "         [0.4260],\n",
              "         [0.4400],\n",
              "         [0.4540],\n",
              "         [0.4680],\n",
              "         [0.4820],\n",
              "         [0.4960],\n",
              "         [0.5100],\n",
              "         [0.5240],\n",
              "         [0.5380],\n",
              "         [0.5520],\n",
              "         [0.5660],\n",
              "         [0.5800],\n",
              "         [0.5940],\n",
              "         [0.6080],\n",
              "         [0.6220],\n",
              "         [0.6360],\n",
              "         [0.6500],\n",
              "         [0.6640],\n",
              "         [0.6780],\n",
              "         [0.6920],\n",
              "         [0.7060],\n",
              "         [0.7200],\n",
              "         [0.7340],\n",
              "         [0.7480],\n",
              "         [0.7620],\n",
              "         [0.7760],\n",
              "         [0.7900],\n",
              "         [0.8040],\n",
              "         [0.8180],\n",
              "         [0.8320],\n",
              "         [0.8460]]))"
            ]
          },
          "metadata": {},
          "execution_count": 5
        }
      ]
    },
    {
      "cell_type": "code",
      "source": [
        "def plot_predictions(train_data=X_train,\n",
        "                     train_labels=y_train,\n",
        "                     test_data=X_test,\n",
        "                     test_labels=y_test,\n",
        "                     predictions=None):\n",
        "  \"\"\"\n",
        "    PLots training data, test data  and compares predictions\n",
        "  \"\"\"\n",
        "  plt.figure(figsize=(10, 7))\n",
        "  # Plot training data in blue\n",
        "  plt.scatter(train_data, train_labels, c=\"b\", s=4, label=\"Training data\")\n",
        "\n",
        "  # Plot test data in green\n",
        "  plt.scatter(test_data, test_labels, c='g', s=4, label=\"Test data\")\n",
        "\n",
        "  # Are there predictions\n",
        "  if predictions is not None:\n",
        "    # Plot the predictions if they exist\n",
        "    plt.scatter(test_data, predictions, c=\"r\", s=4, label=\"Predictions\")\n",
        "\n",
        "  # Show the legend\n",
        "  plt.legend(prop={\"size\": 14})"
      ],
      "metadata": {
        "id": "MoxQ-EgB8oqp"
      },
      "execution_count": 6,
      "outputs": []
    },
    {
      "cell_type": "code",
      "source": [
        "plot_predictions()"
      ],
      "metadata": {
        "colab": {
          "base_uri": "https://localhost:8080/",
          "height": 599
        },
        "id": "KjbWi0Ca_1p-",
        "outputId": "25cebfab-c384-48b8-a9e4-2bf87dc6e7eb"
      },
      "execution_count": 7,
      "outputs": [
        {
          "output_type": "display_data",
          "data": {
            "text/plain": [
              "<Figure size 1000x700 with 1 Axes>"
            ],
            "image/png": "[encoded data removed]"
          },
          "metadata": {}
        }
      ]
    },
    {
      "cell_type": "markdown",
      "source": [
        "## 2. Build Model\n",
        "My first PyTorch Model!\n",
        "\n",
        "What the model does:\n",
        "* Start with random values (weight and bias)\n",
        "* Look at training data and adjust the random values to better represent (or get close to) the ideal values (the weight and bias we used to create our data)\n",
        "\n",
        "How does it do so?\n",
        "\n",
        "Through two main algorithms:\n",
        "1. Gradient descent\n",
        "2. Backpropagantion"
      ],
      "metadata": {
        "id": "VV8SQyU6_4Hb"
      }
    },
    {
      "cell_type": "code",
      "source": [
        "# Create linear regression model class\n",
        "\n",
        "class LinearRegressionModel(nn.Module): # <- almost everything in PyTorch inherits from nn.Module (imagine it as lego building bricks of models)\n",
        "  def __init__(self):\n",
        "    super().__init__()\n",
        "    self.weight = nn.Parameter(torch.randn(1,\n",
        "                                            requires_grad=True,\n",
        "                                            dtype=torch.float))\n",
        "    self.bias = nn.Parameter(torch.randn(1,\n",
        "                                         requires_grad=True,\n",
        "                                         dtype=torch.float))\n",
        "\n",
        "  # Forward method to define the computation in the model\n",
        "  def forward(self, x: torch.Tensor) -> torch.Tensor: # <- x is the input data\n",
        "    return self.weight * x + self.bias # this is the linear regression formula"
      ],
      "metadata": {
        "id": "MtEf7F3TMwLO"
      },
      "execution_count": 8,
      "outputs": []
    },
    {
      "cell_type": "markdown",
      "source": [
        "### Pytorch Model Building Essentials\n",
        "\n",
        "* torch.nn - contains all of the buildings for computational graphs(neural networks can be considered a computational graph)\n",
        "* torch.nn.Parameter - what parameters should our model try and learn, often a PyTorch layer from torch.nn will set these for us\n",
        "* torch.nn.Module - the base class for all neural network modules, if you subclass it, you should overwrite forward()\n",
        "* torch.optim - this is where the optimizers in PyTorch live, they will help with gradient descend\n",
        "* def forward() - All nn.Module subclasses require to overwrite forward(), this method defines what happens in the forward computaion"
      ],
      "metadata": {
        "id": "BaVEFnsnI2Zr"
      }
    },
    {
      "cell_type": "markdown",
      "source": [
        "### Checking the contents of our pytorch model\n",
        "\n",
        "We can check our model parameters or what's inside our model using `.parameters()`"
      ],
      "metadata": {
        "id": "eJlZuQqVLon9"
      }
    },
    {
      "cell_type": "code",
      "source": [
        "# Create a random seed\n",
        "torch.manual_seed(43)\n",
        "\n",
        "# Create an instance of our model (this is a subclass of nn.Model)\n",
        "model_0 =  LinearRegressionModel()\n",
        "\n",
        "# Check out the parameters\n",
        "list(model_0.parameters())"
      ],
      "metadata": {
        "colab": {
          "base_uri": "https://localhost:8080/"
        },
        "id": "XR8rRIW1MCA9",
        "outputId": "997b7c05-2a47-4045-ba77-f5dd743d7829"
      },
      "execution_count": 9,
      "outputs": [
        {
          "output_type": "execute_result",
          "data": {
            "text/plain": [
              "[Parameter containing:\n",
              " tensor([-0.6484], requires_grad=True),\n",
              " Parameter containing:\n",
              " tensor([-0.7058], requires_grad=True)]"
            ]
          },
          "metadata": {},
          "execution_count": 9
        }
      ]
    },
    {
      "cell_type": "code",
      "source": [
        "# List named parameters\n",
        "model_0.state_dict()"
      ],
      "metadata": {
        "colab": {
          "base_uri": "https://localhost:8080/"
        },
        "id": "_tScJIk9MXpn",
        "outputId": "aae26af4-4266-413e-c781-206525740307"
      },
      "execution_count": 10,
      "outputs": [
        {
          "output_type": "execute_result",
          "data": {
            "text/plain": [
              "OrderedDict([('weight', tensor([-0.6484])), ('bias', tensor([-0.7058]))])"
            ]
          },
          "metadata": {},
          "execution_count": 10
        }
      ]
    },
    {
      "cell_type": "markdown",
      "source": [
        "### Making prediction using `torch.infrance_mode`\n",
        "\n",
        "To Check our model's predictive power, let's see how well it predicts `y_test` based on `X_test`\n",
        "\n",
        "When we pass data through out model, it's going to run it through the `forward()` method\n"
      ],
      "metadata": {
        "id": "yYaBMjMdNu5y"
      }
    },
    {
      "cell_type": "code",
      "source": [
        "# Make predictions with model (if you want to read more what inference mode is https://twitter.com/PyTorch/status/1437838231505096708?lang=en)\n",
        "with torch.inference_mode():\n",
        "  y_preds = model_0(X_test)\n",
        "\n",
        "y_preds"
      ],
      "metadata": {
        "colab": {
          "base_uri": "https://localhost:8080/"
        },
        "id": "MAy9zjkxUDbO",
        "outputId": "65f665a1-114e-4501-b26e-d013e526982c"
      },
      "execution_count": 11,
      "outputs": [
        {
          "output_type": "execute_result",
          "data": {
            "text/plain": [
              "tensor([[-1.2246],\n",
              "        [-1.2375],\n",
              "        [-1.2505],\n",
              "        [-1.2635],\n",
              "        [-1.2764],\n",
              "        [-1.2894],\n",
              "        [-1.3024],\n",
              "        [-1.3153],\n",
              "        [-1.3283],\n",
              "        [-1.3413]])"
            ]
          },
          "metadata": {},
          "execution_count": 11
        }
      ]
    },
    {
      "cell_type": "code",
      "source": [
        "plot_predictions(predictions=y_preds)"
      ],
      "metadata": {
        "colab": {
          "base_uri": "https://localhost:8080/",
          "height": 599
        },
        "id": "80EwG8e_VBZM",
        "outputId": "265792c9-9d83-4b8f-b253-8f08de52bf4a"
      },
      "execution_count": 12,
      "outputs": [
        {
          "output_type": "display_data",
          "data": {
            "text/plain": [
              "<Figure size 1000x700 with 1 Axes>"
            ],
            "image/png": "[encoded data removed]"
          },
          "metadata": {}
        }
      ]
    },
    {
      "cell_type": "markdown",
      "source": [
        "## 3 Train model\n",
        "\n",
        "The whole idea of training is for a model to move from some *unknown* parameters (these may be random) to some *known* parameters.\n",
        "\n",
        "In other words from a poor representation of the data to a better representation of the data.\n",
        "\n",
        "One way to measure how poor or how wrong your model predictions are is to use a loss function\n",
        "\n",
        "* Note: Loss function may also be called cost function or criterion in different areas.\n",
        "\n",
        "Thing's we need to train\n",
        "\n",
        "* **Loss Function:** A function to measure how wrong your model's predictions are to the ideal outputs, lower is better.\n",
        "* **Optimizer:** Takes into account the loss of a model and adjusts the model's parameters\n",
        "\n",
        "And specifically for PyTorch, we need:\n",
        "* A training loop\n",
        "* A testing loop"
      ],
      "metadata": {
        "id": "RfWO3MPvWU0A"
      }
    },
    {
      "cell_type": "code",
      "source": [
        "# Set up a loss function\n",
        "loss_fn = nn.L1Loss()\n",
        "\n",
        "# Set up an optimizer\n",
        "optimizer = torch.optim.SGD(params=model_0.parameters(),\n",
        "                            lr=0.01) #lr = learning rate = possibly the most important important hyperperameter you can set"
      ],
      "metadata": {
        "id": "gp6r3qEJcYyk"
      },
      "execution_count": 14,
      "outputs": []
    },
    {
      "cell_type": "markdown",
      "source": [
        "### Building a train and testing loops in PyTorch\n",
        "\n",
        "In a training loop we need:\n",
        "0. Loop through the data\n",
        "1. Forward pass (this involves data moving through our model's `forward()` functions) also called forward propagation - to make predictions on data\n",
        "2. Calculate the loss (compare forward pass predictions to ground truth labels)\n",
        "3. Optimizer zero grad\n",
        "4. Loss backward - move backwards through the network to calculate the gradient of each of the parameters of our model with respect of the loss\n",
        "5. Optimizer step - use the optimizer to adjust our model's parameters to try and improve the loss (**gradient descent**)"
      ],
      "metadata": {
        "id": "rfap25mhk-hW"
      }
    },
    {
      "cell_type": "code",
      "source": [
        "torch.manual_seed(43)\n",
        "# An epoch is one loop through the data\n",
        "epochs = 100\n",
        "\n",
        "### Training\n",
        "# 0. Loop through the data\n",
        "for epoch in range(epochs):\n",
        "  # set the model to training mode\n",
        "  model_0.train() # train mode in PyTorch sets all the parameters that require gradients to require gradient\n",
        "\n",
        "  # 1. Forward pass\n",
        "  y_pred = model_0(X_train)\n",
        "\n",
        "  # 2. Calculate the loss\n",
        "  loss = loss_fn(y_pred, y_train)\n",
        "  print(f\"Loss: {loss}\")\n",
        "\n",
        "  # 3. Optimizer zero grad\n",
        "  optimizer.zero_grad()\n",
        "\n",
        "  # 4. Perform backpropagation on the loss with respect to the parameters of the model\n",
        "  loss.backward()\n",
        "\n",
        "  # 5. Step the optimizer (perform gradient descent)\n",
        "  optimizer.step() # by default how the optimizer changes will accumulate through the loop so we have to zero them above in step 3 for the next iteration of the loop\n",
        "\n",
        "  ### Testing\n",
        "  model_0.eval() #turns off gradient tracking\n",
        "\n",
        "  # Print out model state_dict()\n",
        "  print(model_0.state_dict())"
      ],
      "metadata": {
        "id": "1HychkHllDnJ",
        "colab": {
          "base_uri": "https://localhost:8080/"
        },
        "outputId": "86b30977-6aeb-461c-c5e8-51134a22b541"
      },
      "execution_count": 35,
      "outputs": [
        {
          "output_type": "stream",
          "name": "stdout",
          "text": [
            "Loss: 0.06409231573343277\n",
            "OrderedDict([('weight', tensor([0.3829])), ('bias', tensor([0.4332]))])\n",
            "Loss: 0.06374330818653107\n",
            "OrderedDict([('weight', tensor([0.3847])), ('bias', tensor([0.4327]))])\n",
            "Loss: 0.06340502202510834\n",
            "OrderedDict([('weight', tensor([0.3862])), ('bias', tensor([0.4317]))])\n",
            "Loss: 0.06305810809135437\n",
            "OrderedDict([('weight', tensor([0.3880])), ('bias', tensor([0.4312]))])\n",
            "Loss: 0.06271599978208542\n",
            "OrderedDict([('weight', tensor([0.3896])), ('bias', tensor([0.4302]))])\n",
            "Loss: 0.06237291544675827\n",
            "OrderedDict([('weight', tensor([0.3914])), ('bias', tensor([0.4297]))])\n",
            "Loss: 0.0620269849896431\n",
            "OrderedDict([('weight', tensor([0.3930])), ('bias', tensor([0.4287]))])\n",
            "Loss: 0.06168770790100098\n",
            "OrderedDict([('weight', tensor([0.3948])), ('bias', tensor([0.4282]))])\n",
            "Loss: 0.06133871152997017\n",
            "OrderedDict([('weight', tensor([0.3966])), ('bias', tensor([0.4277]))])\n",
            "Loss: 0.06100178509950638\n",
            "OrderedDict([('weight', tensor([0.3982])), ('bias', tensor([0.4267]))])\n",
            "Loss: 0.06065351516008377\n",
            "OrderedDict([('weight', tensor([0.4000])), ('bias', tensor([0.4262]))])\n",
            "Loss: 0.06031276658177376\n",
            "OrderedDict([('weight', tensor([0.4016])), ('bias', tensor([0.4252]))])\n",
            "Loss: 0.05996830388903618\n",
            "OrderedDict([('weight', tensor([0.4034])), ('bias', tensor([0.4247]))])\n",
            "Loss: 0.059623755514621735\n",
            "OrderedDict([('weight', tensor([0.4050])), ('bias', tensor([0.4237]))])\n",
            "Loss: 0.05928310006856918\n",
            "OrderedDict([('weight', tensor([0.4068])), ('bias', tensor([0.4232]))])\n",
            "Loss: 0.05893474817276001\n",
            "OrderedDict([('weight', tensor([0.4084])), ('bias', tensor([0.4222]))])\n",
            "Loss: 0.058597903698682785\n",
            "OrderedDict([('weight', tensor([0.4102])), ('bias', tensor([0.4217]))])\n",
            "Loss: 0.05824889987707138\n",
            "OrderedDict([('weight', tensor([0.4120])), ('bias', tensor([0.4212]))])\n",
            "Loss: 0.057909540832042694\n",
            "OrderedDict([('weight', tensor([0.4136])), ('bias', tensor([0.4202]))])\n",
            "Loss: 0.05756369233131409\n",
            "OrderedDict([('weight', tensor([0.4154])), ('bias', tensor([0.4197]))])\n",
            "Loss: 0.057220540940761566\n",
            "OrderedDict([('weight', tensor([0.4170])), ('bias', tensor([0.4187]))])\n",
            "Loss: 0.05687849596142769\n",
            "OrderedDict([('weight', tensor([0.4188])), ('bias', tensor([0.4182]))])\n",
            "Loss: 0.056531526148319244\n",
            "OrderedDict([('weight', tensor([0.4204])), ('bias', tensor([0.4172]))])\n",
            "Loss: 0.05619329214096069\n",
            "OrderedDict([('weight', tensor([0.4222])), ('bias', tensor([0.4167]))])\n",
            "Loss: 0.055844299495220184\n",
            "OrderedDict([('weight', tensor([0.4240])), ('bias', tensor([0.4162]))])\n",
            "Loss: 0.05550631135702133\n",
            "OrderedDict([('weight', tensor([0.4255])), ('bias', tensor([0.4152]))])\n",
            "Loss: 0.055159103125333786\n",
            "OrderedDict([('weight', tensor([0.4273])), ('bias', tensor([0.4147]))])\n",
            "Loss: 0.05481730028986931\n",
            "OrderedDict([('weight', tensor([0.4289])), ('bias', tensor([0.4137]))])\n",
            "Loss: 0.05447390675544739\n",
            "OrderedDict([('weight', tensor([0.4307])), ('bias', tensor([0.4132]))])\n",
            "Loss: 0.054128289222717285\n",
            "OrderedDict([('weight', tensor([0.4323])), ('bias', tensor([0.4122]))])\n",
            "Loss: 0.053788699209690094\n",
            "OrderedDict([('weight', tensor([0.4341])), ('bias', tensor([0.4117]))])\n",
            "Loss: 0.05343969538807869\n",
            "OrderedDict([('weight', tensor([0.4359])), ('bias', tensor([0.4112]))])\n",
            "Loss: 0.05310307815670967\n",
            "OrderedDict([('weight', tensor([0.4375])), ('bias', tensor([0.4102]))])\n",
            "Loss: 0.05275449901819229\n",
            "OrderedDict([('weight', tensor([0.4393])), ('bias', tensor([0.4097]))])\n",
            "Loss: 0.052414070814847946\n",
            "OrderedDict([('weight', tensor([0.4409])), ('bias', tensor([0.4087]))])\n",
            "Loss: 0.052069295197725296\n",
            "OrderedDict([('weight', tensor([0.4427])), ('bias', tensor([0.4082]))])\n",
            "Loss: 0.05172505974769592\n",
            "OrderedDict([('weight', tensor([0.4443])), ('bias', tensor([0.4072]))])\n",
            "Loss: 0.051384083926677704\n",
            "OrderedDict([('weight', tensor([0.4461])), ('bias', tensor([0.4067]))])\n",
            "Loss: 0.0510360486805439\n",
            "OrderedDict([('weight', tensor([0.4477])), ('bias', tensor([0.4057]))])\n",
            "Loss: 0.050698887556791306\n",
            "OrderedDict([('weight', tensor([0.4495])), ('bias', tensor([0.4052]))])\n",
            "Loss: 0.0503498800098896\n",
            "OrderedDict([('weight', tensor([0.4513])), ('bias', tensor([0.4047]))])\n",
            "Loss: 0.050010841339826584\n",
            "OrderedDict([('weight', tensor([0.4529])), ('bias', tensor([0.4037]))])\n",
            "Loss: 0.049664683640003204\n",
            "OrderedDict([('weight', tensor([0.4547])), ('bias', tensor([0.4032]))])\n",
            "Loss: 0.04932183399796486\n",
            "OrderedDict([('weight', tensor([0.4563])), ('bias', tensor([0.4022]))])\n",
            "Loss: 0.04897948354482651\n",
            "OrderedDict([('weight', tensor([0.4581])), ('bias', tensor([0.4017]))])\n",
            "Loss: 0.048632822930812836\n",
            "OrderedDict([('weight', tensor([0.4597])), ('bias', tensor([0.4007]))])\n",
            "Loss: 0.04829428344964981\n",
            "OrderedDict([('weight', tensor([0.4615])), ('bias', tensor([0.4002]))])\n",
            "Loss: 0.047945279628038406\n",
            "OrderedDict([('weight', tensor([0.4633])), ('bias', tensor([0.3997]))])\n",
            "Loss: 0.04760760813951492\n",
            "OrderedDict([('weight', tensor([0.4648])), ('bias', tensor([0.3987]))])\n",
            "Loss: 0.04726007953286171\n",
            "OrderedDict([('weight', tensor([0.4666])), ('bias', tensor([0.3982]))])\n",
            "Loss: 0.0469186007976532\n",
            "OrderedDict([('weight', tensor([0.4682])), ('bias', tensor([0.3972]))])\n",
            "Loss: 0.04657488316297531\n",
            "OrderedDict([('weight', tensor([0.4700])), ('bias', tensor([0.3967]))])\n",
            "Loss: 0.046229586005210876\n",
            "OrderedDict([('weight', tensor([0.4716])), ('bias', tensor([0.3957]))])\n",
            "Loss: 0.04588967561721802\n",
            "OrderedDict([('weight', tensor([0.4734])), ('bias', tensor([0.3952]))])\n",
            "Loss: 0.04554067552089691\n",
            "OrderedDict([('weight', tensor([0.4752])), ('bias', tensor([0.3947]))])\n",
            "Loss: 0.04520437866449356\n",
            "OrderedDict([('weight', tensor([0.4768])), ('bias', tensor([0.3937]))])\n",
            "Loss: 0.044855475425720215\n",
            "OrderedDict([('weight', tensor([0.4786])), ('bias', tensor([0.3932]))])\n",
            "Loss: 0.04451536759734154\n",
            "OrderedDict([('weight', tensor([0.4802])), ('bias', tensor([0.3922]))])\n",
            "Loss: 0.04417027160525322\n",
            "OrderedDict([('weight', tensor([0.4820])), ('bias', tensor([0.3917]))])\n",
            "Loss: 0.04382636398077011\n",
            "OrderedDict([('weight', tensor([0.4836])), ('bias', tensor([0.3907]))])\n",
            "Loss: 0.043485067784786224\n",
            "OrderedDict([('weight', tensor([0.4854])), ('bias', tensor([0.3902]))])\n",
            "Loss: 0.04313734173774719\n",
            "OrderedDict([('weight', tensor([0.4870])), ('bias', tensor([0.3892]))])\n",
            "Loss: 0.04279986768960953\n",
            "OrderedDict([('weight', tensor([0.4888])), ('bias', tensor([0.3887]))])\n",
            "Loss: 0.04245087131857872\n",
            "OrderedDict([('weight', tensor([0.4906])), ('bias', tensor([0.3882]))])\n",
            "Loss: 0.04211213439702988\n",
            "OrderedDict([('weight', tensor([0.4922])), ('bias', tensor([0.3872]))])\n",
            "Loss: 0.041765667498111725\n",
            "OrderedDict([('weight', tensor([0.4940])), ('bias', tensor([0.3867]))])\n",
            "Loss: 0.04142313078045845\n",
            "OrderedDict([('weight', tensor([0.4956])), ('bias', tensor([0.3857]))])\n",
            "Loss: 0.04108046740293503\n",
            "OrderedDict([('weight', tensor([0.4974])), ('bias', tensor([0.3852]))])\n",
            "Loss: 0.04073411971330643\n",
            "OrderedDict([('weight', tensor([0.4990])), ('bias', tensor([0.3842]))])\n",
            "Loss: 0.04039526358246803\n",
            "OrderedDict([('weight', tensor([0.5008])), ('bias', tensor([0.3837]))])\n",
            "Loss: 0.040046267211437225\n",
            "OrderedDict([('weight', tensor([0.5026])), ('bias', tensor([0.3832]))])\n",
            "Loss: 0.039708904922008514\n",
            "OrderedDict([('weight', tensor([0.5041])), ('bias', tensor([0.3822]))])\n",
            "Loss: 0.03936106711626053\n",
            "OrderedDict([('weight', tensor([0.5059])), ('bias', tensor([0.3817]))])\n",
            "Loss: 0.03901990130543709\n",
            "OrderedDict([('weight', tensor([0.5075])), ('bias', tensor([0.3807]))])\n",
            "Loss: 0.03867586702108383\n",
            "OrderedDict([('weight', tensor([0.5093])), ('bias', tensor([0.3802]))])\n",
            "Loss: 0.03833088278770447\n",
            "OrderedDict([('weight', tensor([0.5109])), ('bias', tensor([0.3792]))])\n",
            "Loss: 0.037990666925907135\n",
            "OrderedDict([('weight', tensor([0.5127])), ('bias', tensor([0.3787]))])\n",
            "Loss: 0.03764187544584274\n",
            "OrderedDict([('weight', tensor([0.5143])), ('bias', tensor([0.3777]))])\n",
            "Loss: 0.03730546310544014\n",
            "OrderedDict([('weight', tensor([0.5161])), ('bias', tensor([0.3772]))])\n",
            "Loss: 0.036956459283828735\n",
            "OrderedDict([('weight', tensor([0.5179])), ('bias', tensor([0.3767]))])\n",
            "Loss: 0.036616671830415726\n",
            "OrderedDict([('weight', tensor([0.5195])), ('bias', tensor([0.3757]))])\n",
            "Loss: 0.03627126291394234\n",
            "OrderedDict([('weight', tensor([0.5213])), ('bias', tensor([0.3752]))])\n",
            "Loss: 0.035927657037973404\n",
            "OrderedDict([('weight', tensor([0.5229])), ('bias', tensor([0.3742]))])\n",
            "Loss: 0.035586051642894745\n",
            "OrderedDict([('weight', tensor([0.5247])), ('bias', tensor([0.3737]))])\n",
            "Loss: 0.03523864597082138\n",
            "OrderedDict([('weight', tensor([0.5263])), ('bias', tensor([0.3727]))])\n",
            "Loss: 0.03490085154771805\n",
            "OrderedDict([('weight', tensor([0.5281])), ('bias', tensor([0.3722]))])\n",
            "Loss: 0.03455185517668724\n",
            "OrderedDict([('weight', tensor([0.5299])), ('bias', tensor([0.3717]))])\n",
            "Loss: 0.03421343117952347\n",
            "OrderedDict([('weight', tensor([0.5315])), ('bias', tensor([0.3707]))])\n",
            "Loss: 0.033866655081510544\n",
            "OrderedDict([('weight', tensor([0.5333])), ('bias', tensor([0.3702]))])\n",
            "Loss: 0.03352442756295204\n",
            "OrderedDict([('weight', tensor([0.5349])), ('bias', tensor([0.3692]))])\n",
            "Loss: 0.03318145126104355\n",
            "OrderedDict([('weight', tensor([0.5367])), ('bias', tensor([0.3687]))])\n",
            "Loss: 0.03283541649580002\n",
            "OrderedDict([('weight', tensor([0.5383])), ('bias', tensor([0.3677]))])\n",
            "Loss: 0.03249625116586685\n",
            "OrderedDict([('weight', tensor([0.5401])), ('bias', tensor([0.3672]))])\n",
            "Loss: 0.032147251069545746\n",
            "OrderedDict([('weight', tensor([0.5419])), ('bias', tensor([0.3667]))])\n",
            "Loss: 0.0318102091550827\n",
            "OrderedDict([('weight', tensor([0.5434])), ('bias', tensor([0.3657]))])\n",
            "Loss: 0.03146204352378845\n",
            "OrderedDict([('weight', tensor([0.5452])), ('bias', tensor([0.3652]))])\n",
            "Loss: 0.031121203675866127\n",
            "OrderedDict([('weight', tensor([0.5468])), ('bias', tensor([0.3642]))])\n",
            "Loss: 0.030776849016547203\n",
            "OrderedDict([('weight', tensor([0.5486])), ('bias', tensor([0.3637]))])\n",
            "Loss: 0.030432185158133507\n",
            "OrderedDict([('weight', tensor([0.5502])), ('bias', tensor([0.3627]))])\n",
            "Loss: 0.030091648921370506\n",
            "OrderedDict([('weight', tensor([0.5520])), ('bias', tensor([0.3622]))])\n"
          ]
        }
      ]
    },
    {
      "cell_type": "code",
      "source": [
        "model_0.state_dict()"
      ],
      "metadata": {
        "colab": {
          "base_uri": "https://localhost:8080/"
        },
        "id": "yrViIg2Hhyu7",
        "outputId": "cf3a1714-d266-44a6-dd27-2f253a2723d8"
      },
      "execution_count": 32,
      "outputs": [
        {
          "output_type": "execute_result",
          "data": {
            "text/plain": [
              "OrderedDict([('weight', tensor([0.0360])), ('bias', tensor([0.5692]))])"
            ]
          },
          "metadata": {},
          "execution_count": 32
        }
      ]
    },
    {
      "cell_type": "code",
      "source": [
        "with torch.inference_mode():\n",
        "  y_preds_new = model_0(X_test)"
      ],
      "metadata": {
        "id": "MiOuGPPRh4Jp"
      },
      "execution_count": 37,
      "outputs": []
    },
    {
      "cell_type": "code",
      "source": [
        "# Reminder how bad our results were before training.\n",
        "plot_predictions(predictions=y_preds)"
      ],
      "metadata": {
        "colab": {
          "base_uri": "https://localhost:8080/",
          "height": 599
        },
        "id": "KEnbLJ6epe2_",
        "outputId": "df7ee408-203d-49d4-ac6d-b6bfd0278f31"
      },
      "execution_count": 36,
      "outputs": [
        {
          "output_type": "display_data",
          "data": {
            "text/plain": [
              "<Figure size 1000x700 with 1 Axes>"
            ],
            "image/png": "[encoded data removed]"
          },
          "metadata": {}
        }
      ]
    },
    {
      "cell_type": "code",
      "source": [
        "# Results after 400+ epochs\n",
        "plot_predictions(predictions=y_preds_new)"
      ],
      "metadata": {
        "colab": {
          "base_uri": "https://localhost:8080/",
          "height": 599
        },
        "id": "Gi2_2RdlplNn",
        "outputId": "6387e394-a1c0-4084-ff19-3d351b2d40e7"
      },
      "execution_count": 38,
      "outputs": [
        {
          "output_type": "display_data",
          "data": {
            "text/plain": [
              "<Figure size 1000x700 with 1 Axes>"
            ],
            "image/png": "[encoded data removed]"
          },
          "metadata": {}
        }
      ]
    },
    {
      "cell_type": "code",
      "source": [],
      "metadata": {
        "id": "jy8uaHAMp75p"
      },
      "execution_count": null,
      "outputs": []
    }
  ]
}