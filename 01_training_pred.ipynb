{
  "nbformat": 4,
  "nbformat_minor": 0,
  "metadata": {
    "colab": {
      "provenance": [],
      "authorship_tag": "ABX9TyOo9uoMy1Ng/hzyRWJ07WO5",
      "include_colab_link": true
    },
    "kernelspec": {
      "name": "python3",
      "display_name": "Python 3"
    },
    "language_info": {
      "name": "python"
    }
  },
  "cells": [
    {
      "cell_type": "markdown",
      "metadata": {
        "id": "view-in-github",
        "colab_type": "text"
      },
      "source": [
        "<a href=\"https://colab.research.google.com/github/SamuilMladenov/LearnPyTorch/blob/main/01_training_pred.ipynb\" target=\"_parent\"><img src=\"https://colab.research.google.com/assets/colab-badge.svg\" alt=\"Open In Colab\"/></a>"
      ]
    },
    {
      "cell_type": "code",
      "execution_count": 2,
      "metadata": {
        "id": "GMsH3fDrah1_"
      },
      "outputs": [],
      "source": [
        "# Import all the needed libraries\n",
        "import torch\n",
        "from torch import nn\n",
        "import pandas as pd\n",
        "import matplotlib.pyplot as plt\n",
        "import numpy as np"
      ]
    },
    {
      "cell_type": "code",
      "source": [
        "# Create known parameters\n",
        "quad_coef = 0.5\n",
        "lin_coef = -1.5\n",
        "const_coef = 1.0\n",
        "\n",
        "# Create\n",
        "start = 0\n",
        "end = 3\n",
        "step = 0.02\n",
        "X = torch.arange(start, end, step).unsqueeze(dim=1)\n",
        "y = quad_coef*(X**2) + lin_coef*X + const_coef\n",
        "\n",
        "len(X), len(y)"
      ],
      "metadata": {
        "colab": {
          "base_uri": "https://localhost:8080/"
        },
        "id": "t7CQkOyXPzNN",
        "outputId": "6477cabc-8213-4964-cf6c-a1958cb64770"
      },
      "execution_count": 16,
      "outputs": [
        {
          "output_type": "execute_result",
          "data": {
            "text/plain": [
              "(150, 150)"
            ]
          },
          "metadata": {},
          "execution_count": 16
        }
      ]
    },
    {
      "cell_type": "code",
      "source": [
        "# Create a train/test split\n",
        "\n",
        "train_split = int(0.8 * len(X))\n",
        "X_train, y_train = X[:train_split], y[:train_split]\n",
        "X_test, y_test = X[train_split:], y[train_split:]"
      ],
      "metadata": {
        "id": "hr3Z7mxCRfeI"
      },
      "execution_count": 17,
      "outputs": []
    },
    {
      "cell_type": "code",
      "source": [
        "def plot_predictions(train_data=X_train,\n",
        "                     train_labels=y_train,\n",
        "                     test_data=X_test,\n",
        "                     test_labels=y_test,\n",
        "                     predictions=None):\n",
        "  \"\"\"\n",
        "    PLots training data, test data  and compares predictions\n",
        "  \"\"\"\n",
        "  plt.figure(figsize=(10, 7))\n",
        "  # Plot training data in blue\n",
        "  plt.scatter(train_data, train_labels, c=\"b\", s=4, label=\"Training data\")\n",
        "\n",
        "  # Plot test data in green\n",
        "  plt.scatter(test_data, test_labels, c='g', s=4, label=\"Test data\")\n",
        "\n",
        "  # Are there predictions\n",
        "  if predictions is not None:\n",
        "    # Plot the predictions if they exist\n",
        "    plt.scatter(test_data, predictions, c=\"r\", s=4, label=\"Predictions\")\n",
        "\n",
        "  # Show the legend\n",
        "  plt.legend(prop={\"size\": 14})"
      ],
      "metadata": {
        "id": "rnlZGv2QSBdi"
      },
      "execution_count": 18,
      "outputs": []
    },
    {
      "cell_type": "code",
      "source": [
        "plot_predictions()"
      ],
      "metadata": {
        "colab": {
          "base_uri": "https://localhost:8080/",
          "height": 599
        },
        "id": "b-foT2tiSX9j",
        "outputId": "fd766e14-4986-49dd-b196-6fac60ce67df"
      },
      "execution_count": 19,
      "outputs": [
        {
          "output_type": "display_data",
          "data": {
            "text/plain": [
              "<Figure size 1000x700 with 1 Axes>"
            ],
            "image/png": "[encoded data removed]"
          },
          "metadata": {}
        }
      ]
    },
    {
      "cell_type": "code",
      "source": [
        "# Create the model class\n",
        "class QuadraticRegressionModel(nn.Module):\n",
        "  def __init__(self):\n",
        "    super().__init__()\n",
        "    self.quad_coef = nn.Parameter(torch.randn(1,\n",
        "                                            requires_grad=True,\n",
        "                                            dtype=torch.float))\n",
        "    self.lin_coef = nn.Parameter(torch.randn(1,\n",
        "                                         requires_grad=True,\n",
        "                                         dtype=torch.float))\n",
        "    self.const_coef = nn.Parameter(torch.randn(1,\n",
        "                                         requires_grad=True,\n",
        "                                         dtype=torch.float))\n",
        "\n",
        "  # Forward method\n",
        "  def forward(self, x: torch.Tensor) -> torch.Tensor:\n",
        "    return self.quad_coef * x ** 2 + self.lin_coef * x + self.const_coef"
      ],
      "metadata": {
        "id": "sAzSvHjTSZhm"
      },
      "execution_count": 26,
      "outputs": []
    },
    {
      "cell_type": "code",
      "source": [
        "# Manual seed\n",
        "torch.manual_seed(42)\n",
        "\n",
        "quad_reg_model = QuadraticRegressionModel()\n",
        "\n",
        "quad_reg_model.state_dict()\n"
      ],
      "metadata": {
        "colab": {
          "base_uri": "https://localhost:8080/"
        },
        "id": "rUQt8hUYbpiT",
        "outputId": "45d8f196-1470-4b9d-ea38-0c3ced475da1"
      },
      "execution_count": 27,
      "outputs": [
        {
          "output_type": "execute_result",
          "data": {
            "text/plain": [
              "OrderedDict([('quad_coef', tensor([0.3367])),\n",
              "             ('lin_coef', tensor([0.1288])),\n",
              "             ('const_coef', tensor([0.2345]))])"
            ]
          },
          "metadata": {},
          "execution_count": 27
        }
      ]
    },
    {
      "cell_type": "code",
      "source": [
        "with torch.inference_mode():\n",
        "  y_preds = quad_reg_model(X_test)\n",
        "\n",
        "y_preds"
      ],
      "metadata": {
        "colab": {
          "base_uri": "https://localhost:8080/"
        },
        "id": "TC7WJSj1cRsl",
        "outputId": "ed8974e0-39fa-4986-865d-ecde8f638dac"
      },
      "execution_count": 28,
      "outputs": [
        {
          "output_type": "execute_result",
          "data": {
            "text/plain": [
              "tensor([[2.4829],\n",
              "        [2.5180],\n",
              "        [2.5533],\n",
              "        [2.5888],\n",
              "        [2.6247],\n",
              "        [2.6608],\n",
              "        [2.6972],\n",
              "        [2.7338],\n",
              "        [2.7707],\n",
              "        [2.8079],\n",
              "        [2.8454],\n",
              "        [2.8831],\n",
              "        [2.9211],\n",
              "        [2.9594],\n",
              "        [2.9979],\n",
              "        [3.0367],\n",
              "        [3.0758],\n",
              "        [3.1151],\n",
              "        [3.1547],\n",
              "        [3.1946],\n",
              "        [3.2348],\n",
              "        [3.2752],\n",
              "        [3.3159],\n",
              "        [3.3568],\n",
              "        [3.3981],\n",
              "        [3.4396],\n",
              "        [3.4813],\n",
              "        [3.5234],\n",
              "        [3.5657],\n",
              "        [3.6083]])"
            ]
          },
          "metadata": {},
          "execution_count": 28
        }
      ]
    },
    {
      "cell_type": "code",
      "source": [
        "plot_predictions(predictions=y_preds)"
      ],
      "metadata": {
        "colab": {
          "base_uri": "https://localhost:8080/",
          "height": 599
        },
        "id": "AZDO1evGdKzY",
        "outputId": "8c98b19a-5e38-4ab7-dc32-3074226e50a3"
      },
      "execution_count": 29,
      "outputs": [
        {
          "output_type": "display_data",
          "data": {
            "text/plain": [
              "<Figure size 1000x700 with 1 Axes>"
            ],
            "image/png": "[encoded data removed]"
          },
          "metadata": {}
        }
      ]
    },
    {
      "cell_type": "code",
      "source": [
        "# Set up a loss function\n",
        "loss_fn = nn.L1Loss()\n",
        "\n",
        "# Set up an optimizer\n",
        "optimizer = torch.optim.SGD(params=quad_reg_model.parameters(),\n",
        "                            lr=0.0001)"
      ],
      "metadata": {
        "id": "pETnZImWdczi"
      },
      "execution_count": 30,
      "outputs": []
    },
    {
      "cell_type": "code",
      "source": [
        "# Training and testingloop\n",
        "\n",
        "epochs = 1200\n",
        "\n",
        "#Tracking different values\n",
        "epoch_count = []\n",
        "loss_values = []\n",
        "test_loss_values = []\n",
        "\n",
        "for epoch in range(epochs):\n",
        "  quad_reg_model.train()\n",
        "\n",
        "  y_pred = quad_reg_model(X_train)\n",
        "\n",
        "  loss = loss_fn(y_pred, y_train)\n",
        "\n",
        "  optimizer.zero_grad()\n",
        "\n",
        "  loss.backward()\n",
        "\n",
        "  optimizer.step()\n",
        "\n",
        "  quad_reg_model.eval()\n",
        "  with torch.inference_mode():\n",
        "    test_pred = quad_reg_model(X_test)\n",
        "\n",
        "    test_loss = loss_fn(test_pred, y_test)\n",
        "\n",
        "  if epoch % 100 == 0:\n",
        "    epoch_count.append(epoch)\n",
        "    loss_values.append(loss)\n",
        "    test_loss_values.append(test_loss)\n",
        "    print(f\"Epoch: {epoch} | Loss: {loss} | Test loss: {test_loss}\")\n",
        "\n",
        "    # Print out model state_dict()\n",
        "    print(quad_reg_model.state_dict())\n"
      ],
      "metadata": {
        "id": "0anaNFaZer2W"
      },
      "execution_count": null,
      "outputs": []
    }
  ]
}